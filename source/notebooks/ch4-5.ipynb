{
 "cells": [
  {
   "cell_type": "code",
   "execution_count": 1,
   "metadata": {},
   "outputs": [],
   "source": [
    "import sys, os\n",
    "sys.path.append(os.path.abspath('../functions'))\n",
    "\n",
    "# Old API\n",
    "import numpy as np\n",
    "from ThreePoint import ThreePoint as ThreePoint\n",
    "\n",
    "pi = np.pi\n",
    "\n",
    "# New API\n",
    "import numpy as np\n",
    "from three_point_utils import three_point_utils"
   ]
  },
  {
   "cell_type": "code",
   "execution_count": 2,
   "metadata": {},
   "outputs": [
    {
     "name": "stdout",
     "output_type": "stream",
     "text": [
      "Plane strike = 84.5, dip = 22.5\n"
     ]
    }
   ],
   "source": [
    "# Old API\n",
    "# ENU coordinates of the three points\n",
    "p1 = np.array([509, 2041, 400])\n",
    "p2 = np.array([1323, 2362, 500])\n",
    "p3 = np.array([2003, 2913, 700])\n",
    "\n",
    "# Compute the orientation of the plane\n",
    "strike, dip = ThreePoint(p1,p2,p3)\n",
    "print('Plane strike = {:.1f}, dip = {:.1f}'.format(strike*180/pi,dip*180/pi))"
   ]
  },
  {
   "cell_type": "code",
   "execution_count": 3,
   "metadata": {},
   "outputs": [
    {
     "name": "stdout",
     "output_type": "stream",
     "text": [
      "Plane strike = 84.5, dip = 22.5\n"
     ]
    }
   ],
   "source": [
    "# New API\n",
    "# ENU coordinates of the three points\n",
    "p1 = np.array([509.0, 2041.0, 400.0])\n",
    "p2 = np.array([1323.0, 2362.0, 500.0])\n",
    "p3 = np.array([2003.0, 2913.0, 700.0])\n",
    "\n",
    "# Compute the orientation of the plane\n",
    "strike, dip = three_point_utils(p1, p2, p3)\n",
    "print('Plane strike = {:.1f}, dip = {:.1f}'.format(np.degrees(strike), np.degrees(dip)))"
   ]
  }
 ],
 "metadata": {
  "kernelspec": {
   "display_name": "Python 3",
   "language": "python",
   "name": "python3"
  },
  "language_info": {
   "codemirror_mode": {
    "name": "ipython",
    "version": 3
   },
   "file_extension": ".py",
   "mimetype": "text/x-python",
   "name": "python",
   "nbconvert_exporter": "python",
   "pygments_lexer": "ipython3",
   "version": "3.6.5"
  }
 },
 "nbformat": 4,
 "nbformat_minor": 2
}
