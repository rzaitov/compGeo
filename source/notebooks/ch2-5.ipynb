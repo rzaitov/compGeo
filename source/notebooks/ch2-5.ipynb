{
 "cells": [
  {
   "cell_type": "markdown",
   "metadata": {},
   "source": [
    "We have a csv file with two columns: longitude and latitude. Each coordinate pair is the center of a volcano around the world. There are 1,509 volcanoes in our dataset. The original coordinate reference system is geographic coordinates with datum WGS84. We want to make a coordinate transformation of these data points to World Mercator. It will take much too long to manually transform these coordinates as we have done in the notebooks before. Therefore, our new code will read the csv file and create a new csv file.\n",
    "\n",
    "Check that the pathway of in_path and out_path matches the directory where the csv file is. In this example, the volcanoes file (volc_longlat.csv) is in the directory data/ch2-5. Run the code, you will know the process is finished when the message \"process completed\" and the time of execution are returned:"
   ]
  },
  {
   "cell_type": "code",
   "execution_count": 1,
   "metadata": {},
   "outputs": [
    {
     "name": "stdout",
     "output_type": "stream",
     "text": [
      "process completed\n",
      "it took 162.9448902606964 seconds to run the code\n"
     ]
    }
   ],
   "source": [
    "# Old API\n",
    "# Import libraries\n",
    "import csv, pyproj\n",
    "from functools import partial\n",
    "from os import listdir, path\n",
    "\n",
    "# Time the execution of the code\n",
    "import time\n",
    "start_time = time.time()\n",
    "\n",
    "# Remove warnings\n",
    "import warnings\n",
    "warnings.simplefilter('ignore')\n",
    "\n",
    "# Define some constants at the top\n",
    "\n",
    "lon = 'LONGITUDE' #name of longitude field in original files\n",
    "lat = 'LATITUDE' #name of latitude field in original files\n",
    "f_x = 'x' #name of new x value field in new projected files\n",
    "f_y = 'y' #name of new y value field in new projected files\n",
    "in_path = path.abspath('../data/ch2-5') #input directory\n",
    "out_path = path.abspath('../data/ch2-5') #output directory\n",
    "input_projection = 'EPSG:4326' #WGS84\n",
    "output_projection = 'EPSG:3395' #World Mercator\n",
    "\n",
    "# Get CSVs to reproject from input path\n",
    "files= [f for f in listdir(in_path) if f.endswith('.csv')]\n",
    "\n",
    "# Define partial function for use later when reprojecting\n",
    "project = partial(\n",
    "    pyproj.transform,\n",
    "    pyproj.Proj(init=input_projection),\n",
    "    pyproj.Proj(init=output_projection))\n",
    "\n",
    "for csvfile in files:\n",
    "    # Open a writer, appending '_project' onto the base name\n",
    "    with open(path.join(out_path, csvfile.replace('.csv','_project.csv')), 'w') as w:\n",
    "        # Open the reader\n",
    "        with open(path.join( in_path, csvfile), 'r') as r:\n",
    "            reader = csv.DictReader(r, dialect='excel')\n",
    "            # Create new fieldnames list from reader\n",
    "            # replacing lon and lat fields with \n",
    "            # x and y fields\n",
    "            fn = [x for x in reader.fieldnames]\n",
    "            fn[fn.index(lon)] = f_x\n",
    "            fn[fn.index(lat)] = f_y\n",
    "            writer = csv.DictWriter(w, fieldnames=fn)\n",
    "            # Write the output\n",
    "            writer.writeheader()\n",
    "            for row in reader:\n",
    "                x,y = (float(row[lon]), float(row[lat]))\n",
    "                try:\n",
    "                    # Add x,y keys and remove lon, lat keys\n",
    "                    # project point\n",
    "                    row[f_x], row[f_y] = project(x, y) \n",
    "                    row.pop(lon, None)\n",
    "                    row.pop(lat, None)\n",
    "                    writer.writerow(row)\n",
    "                except Exception as e:\n",
    "                    # If coordinates are out of bounds, \n",
    "                    # skip row and print the error\n",
    "                    print (e)\n",
    "print('process completed')\n",
    "end_time = time.time()\n",
    "print(\"it took {} seconds to run the code\".format(end_time-start_time))"
   ]
  },
  {
   "cell_type": "code",
   "execution_count": 2,
   "metadata": {},
   "outputs": [
    {
     "name": "stdout",
     "output_type": "stream",
     "text": [
      "process completed\n",
      "it took 0.10211896896362305 seconds to run the code\n"
     ]
    }
   ],
   "source": [
    "# New API\n",
    "# Import libraries\n",
    "import csv, time\n",
    "from os import path\n",
    "from pyproj import Transformer, CRS\n",
    "\n",
    "src_file = 'volc_longlat.csv'\n",
    "dst_file = 'volc_projected.csv'\n",
    "\n",
    "src_dir = path.abspath('../data/ch2-5') # input directory\n",
    "dst_dir = path.abspath('../data/ch2-5') # output directory\n",
    "\n",
    "src_path = path.join(src_dir, src_file)\n",
    "dst_path = path.join(dst_dir, dst_file)\n",
    "\n",
    "src_crs = CRS(\"EPSG:4326\") #WGS84\n",
    "dst_crs = CRS(\"EPSG:3395\") #World Mercator\n",
    "\n",
    "# create coordinate transformer\n",
    "# always_xy=True makes projector.transform() accept lon, lat (GIS order) instead of lat, lon\n",
    "# for more info see the doc https://pyproj4.github.io/pyproj/stable/api/transformer.html?highlight=transformer#pyproj.transformer.Transformer.from_crs\n",
    "projector = Transformer.from_crs(src_crs, dst_crs, always_xy=True)\n",
    "\n",
    "# source csv file has lon, lat columns\n",
    "src_header = ['LONGITUDE', 'LATITUDE']\n",
    "\n",
    "# destinatin csv file will have x, y columns\n",
    "dst_header = ['x', 'y']\n",
    "\n",
    "# start benchmark timer\n",
    "start_time = time.time()\n",
    "\n",
    "# open destination file in write mode\n",
    "with open(dst_path, 'w') as w:\n",
    "    # open source file in read mode\n",
    "    with open(src_path, 'r') as r:\n",
    "        reader = csv.reader(r, dialect='excel')\n",
    "        input_headers = next(reader) # read and skip first header row ['LONGITUDE', 'LATITUDE']        \n",
    "\n",
    "        writer = csv.writer(w, delimiter=',', quotechar='\"', quoting=csv.QUOTE_MINIMAL)\n",
    "        writer.writerow(dst_header)   # Write the output header\n",
    "        for row in reader:\n",
    "            try:\n",
    "                # convert string values inside row into float values\n",
    "                lon, lat = [float(val) for val in row]\n",
    "                x, y = projector.transform(lon, lat)\n",
    "                writer.writerow([ x, y ])\n",
    "            except Exception as e:\n",
    "                # If coordinates are out of bounds, \n",
    "                # skip row and print the error\n",
    "                print (e)\n",
    "\n",
    "# stop benchmarking\n",
    "end_time = time.time()\n",
    "\n",
    "print('process completed')\n",
    "print(\"it took {} seconds to run the code\".format(end_time-start_time))"
   ]
  },
  {
   "cell_type": "markdown",
   "metadata": {},
   "source": [
    "It takes about 55 seconds to run this code. Check the newly created csv file and notice that you now have a listing of coordinates in meters. The EPSG definition of the output coordinate reference system is listed under output_projection. You can easily change this variable to another EPSG and rerun the script. Notice that the code is written so that every csv file in the directory will undergo a coordinate transformation. "
   ]
  }
 ],
 "metadata": {
  "kernelspec": {
   "display_name": "Python 3",
   "language": "python",
   "name": "python3"
  },
  "language_info": {
   "codemirror_mode": {
    "name": "ipython",
    "version": 3
   },
   "file_extension": ".py",
   "mimetype": "text/x-python",
   "name": "python",
   "nbconvert_exporter": "python",
   "pygments_lexer": "ipython3",
   "version": "3.6.5"
  }
 },
 "nbformat": 4,
 "nbformat_minor": 4
}
