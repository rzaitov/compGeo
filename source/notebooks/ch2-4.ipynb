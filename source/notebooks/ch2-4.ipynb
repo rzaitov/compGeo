{
 "cells": [
  {
   "cell_type": "markdown",
   "metadata": {},
   "source": [
    "We will use the pyproj CRS and transform functions. The CRS function defines the coordinate reference system while transform specifies which coordinate reference system is the original and which is the output. CRS has the same ability to refer directly to an EPSG code.\n",
    "\n",
    "The input coordinates are in EPSG:4326, which is a commonly used code. It is the geographic coordinate system with datum WGS84. The output coordinates are EPSG:31984, which is for UTM zone 24 S with datum SIRGAS2000."
   ]
  },
  {
   "cell_type": "code",
   "execution_count": 1,
   "metadata": {},
   "outputs": [
    {
     "name": "stdout",
     "output_type": "stream",
     "text": [
      "x=2930179.850, y=5185231.716\n"
     ]
    },
    {
     "name": "stderr",
     "output_type": "stream",
     "text": [
      "<ipython-input-1-80774ec11faf>:13: DeprecationWarning: This function is deprecated. See: https://pyproj4.github.io/pyproj/stable/gotchas.html#upgrading-to-pyproj-2-from-pyproj-1\n",
      "  x2, y2 = transform(c1, c2, x1, y1)\n"
     ]
    }
   ],
   "source": [
    "# Old version\n",
    "# Import transform and CRS functions\n",
    "from pyproj import transform\n",
    "from pyproj import CRS\n",
    "\n",
    "# input coordinates\n",
    "c1 = CRS('EPSG:4326')\n",
    "# coordinate pair\n",
    "y1=-10.754283\n",
    "x1=-39.866132\n",
    "# output coordinates\n",
    "c2 = CRS('EPSG:31984')\n",
    "# Coordinate transformation\n",
    "x2, y2 = transform(c1, c2, x1, y1)\n",
    "print(f'x={x2:9.3f}, y={y2:11.3f}')"
   ]
  },
  {
   "cell_type": "code",
   "execution_count": 3,
   "metadata": {},
   "outputs": [
    {
     "name": "stdout",
     "output_type": "stream",
     "text": [
      "x=2930179.850, y=5185231.716\n"
     ]
    }
   ],
   "source": [
    "# New version\n",
    "# Import transform and CRS functions\n",
    "from pyproj import transform\n",
    "from pyproj import CRS\n",
    "\n",
    "# silence warnings\n",
    "import warnings \n",
    "warnings.simplefilter('ignore')\n",
    "\n",
    "# input coordinates\n",
    "c1 = CRS('EPSG:4326')\n",
    "# coordinate pair\n",
    "y1=-10.754283\n",
    "x1=-39.866132\n",
    "# output coordinates\n",
    "c2 = CRS('EPSG:31984')\n",
    "# Coordinate transformation\n",
    "x2, y2 = transform(c1, c2, x1, y1)\n",
    "print(f'x={x2:9.3f}, y={y2:11.3f}')"
   ]
  },
  {
   "cell_type": "code",
   "execution_count": 4,
   "metadata": {},
   "outputs": [
    {
     "name": "stdout",
     "output_type": "stream",
     "text": [
      "x=2930179.850, y=5185231.716\n"
     ]
    }
   ],
   "source": [
    "# Another New version\n",
    "# Import Transformer and CRS functions\n",
    "from pyproj import Transformer\n",
    "transformer = Transformer.from_crs(\"epsg:4326\", \"epsg:31984\")\n",
    "transformer.transform(10.754283, 39.866132)\n",
    "\n",
    "# Coordinate transformation\n",
    "x2, y2 = transform(c1, c2, x1, y1)\n",
    "print(f'x={x2:9.3f}, y={y2:11.3f}')"
   ]
  }
 ],
 "metadata": {
  "kernelspec": {
   "display_name": "Python 3",
   "language": "python",
   "name": "python3"
  },
  "language_info": {
   "codemirror_mode": {
    "name": "ipython",
    "version": 3
   },
   "file_extension": ".py",
   "mimetype": "text/x-python",
   "name": "python",
   "nbconvert_exporter": "python",
   "pygments_lexer": "ipython3",
   "version": "3.8.5"
  }
 },
 "nbformat": 4,
 "nbformat_minor": 4
}
