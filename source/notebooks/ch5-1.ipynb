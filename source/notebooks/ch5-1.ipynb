{
 "cells": [
  {
   "cell_type": "code",
   "execution_count": 1,
   "metadata": {},
   "outputs": [],
   "source": [
    "import numpy as np\n",
    "pi = np.pi\n",
    "\n",
    "# Import function TrueThickness\n",
    "import sys, os\n",
    "sys.path.append(os.path.abspath('../functions'))\n",
    "\n",
    "# Old API\n",
    "from TrueThickness import TrueThickness\n",
    "\n",
    "# New API\n",
    "from enu2sdp import enu2sdp\n",
    "from true_thickness import true_thickness"
   ]
  },
  {
   "cell_type": "code",
   "execution_count": 3,
   "metadata": {},
   "outputs": [
    {
     "name": "stdout",
     "output_type": "stream",
     "text": [
      "Thickness of unit T = 467.2 m\n",
      "Thickness of unit S = 94.6 m\n",
      "Thickness of unit R = 278.6 m\n",
      "Thickness of unit Q = 195.6 m\n"
     ]
    }
   ],
   "source": [
    "# Old API\n",
    "# ENU coordinates of the points\n",
    "p1 = np.array([1147, 3329, 400]) \n",
    "p2 = np.array([1323, 2362, 500]) \n",
    "p3 = np.array([1105, 1850, 400]) \n",
    "p4 = np.array([1768, 940, 300]) \n",
    "p5 = np.array([1842, 191, 200])\n",
    "\n",
    "# Strike and dip of the unit in radians\n",
    "strike = 84.5 * pi/180\n",
    "dip = 22.5 * pi/180\n",
    "\n",
    "# Compute the thickness of the units\n",
    "thickT = TrueThickness(strike,dip,p2,p1)\n",
    "thickS = TrueThickness(strike,dip,p3,p2)\n",
    "thickR = TrueThickness(strike,dip,p4,p3)\n",
    "thickQ = TrueThickness(strike,dip,p5,p4)\n",
    "print('Thickness of unit T = {:.1f} m'.format(thickT))\n",
    "print('Thickness of unit S = {:.1f} m'.format(thickS))\n",
    "print('Thickness of unit R = {:.1f} m'.format(thickR))\n",
    "print('Thickness of unit Q = {:.1f} m'.format(thickQ))"
   ]
  },
  {
   "cell_type": "code",
   "execution_count": 4,
   "metadata": {},
   "outputs": [
    {
     "name": "stdout",
     "output_type": "stream",
     "text": [
      "Thickness of unit T = 467.2 m\n",
      "Thickness of unit S = 94.6 m\n",
      "Thickness of unit R = 278.6 m\n",
      "Thickness of unit Q = 195.6 m\n"
     ]
    }
   ],
   "source": [
    "# New API\n",
    "# ENU coordinates of the points\n",
    "p1 = np.array([1147.0, 3329.0, 400.0]) \n",
    "p2 = np.array([1323.0, 2362.0, 500.0]) \n",
    "p3 = np.array([1105.0, 1850.0, 400.0]) \n",
    "p4 = np.array([1768.0, 940.0, 300.0]) \n",
    "p5 = np.array([1842.0, 191.0, 200.0])\n",
    "\n",
    "# Strike and dip of the unit in radians\n",
    "strike, dip = np.radians([84.5, 22.5])\n",
    "T = enu2sdp(strike, dip)\n",
    "\n",
    "# Compute the thickness of the units\n",
    "thickT = true_thickness(T, p2, p1)\n",
    "thickS = true_thickness(T, p3, p2)\n",
    "thickR = true_thickness(T, p4, p3)\n",
    "thickQ = true_thickness(T, p5, p4)\n",
    "print('Thickness of unit T = {:.1f} m'.format(thickT))\n",
    "print('Thickness of unit S = {:.1f} m'.format(thickS))\n",
    "print('Thickness of unit R = {:.1f} m'.format(thickR))\n",
    "print('Thickness of unit Q = {:.1f} m'.format(thickQ))"
   ]
  }
 ],
 "metadata": {
  "kernelspec": {
   "display_name": "Python 3",
   "language": "python",
   "name": "python3"
  },
  "language_info": {
   "codemirror_mode": {
    "name": "ipython",
    "version": 3
   },
   "file_extension": ".py",
   "mimetype": "text/x-python",
   "name": "python",
   "nbconvert_exporter": "python",
   "pygments_lexer": "ipython3",
   "version": "3.6.5"
  }
 },
 "nbformat": 4,
 "nbformat_minor": 2
}
