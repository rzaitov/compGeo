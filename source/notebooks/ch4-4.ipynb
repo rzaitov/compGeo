{
 "cells": [
  {
   "cell_type": "markdown",
   "metadata": {},
   "source": [
    "This notebook illustrates the use of the function `Angles` to solve several interesting problems. Let's start with the following problem: Two limbs of a chevron fold (A and B) have orientations (strike/dip, RHR) as follows:\n",
    "\n",
    "Limb A = 120/40\n",
    "\n",
    "Limb B = 250/60\n",
    "\n",
    "Determine: (a) the trend and plunge of the hinge line of the fold, (b) the rake of the hinge line in limb A, (c) the rake of the hinge line in limb B. "
   ]
  },
  {
   "cell_type": "code",
   "execution_count": 1,
   "metadata": {},
   "outputs": [],
   "source": [
    "import sys, os\n",
    "sys.path.append(os.path.abspath('../functions'))\n",
    "\n",
    "# Old API\n",
    "import math\n",
    "from Angles import Angles as Angles\n",
    "\n",
    "pi = math.pi\n",
    "\n",
    "# New API\n",
    "import numpy as np\n",
    "from angles_utils import angle_from_lines, angle_from_planes, plane_from_lines, line_from_planes\n",
    "\n",
    "pi = np.pi"
   ]
  },
  {
   "cell_type": "code",
   "execution_count": 2,
   "metadata": {},
   "outputs": [
    {
     "name": "stdout",
     "output_type": "stream",
     "text": [
      "Hinge trend = 265.8, plunge 25.3\n",
      "Rake of hinge in SW dipping limb = 138.4\n",
      "Rake of hinge in NE dipping limb = 29.5\n"
     ]
    }
   ],
   "source": [
    "# Old API\n",
    "# Strike and dip of the limbs in radians\n",
    "str1 = 120 * pi/180 # SW dipping limb\n",
    "dip1 = 40 * pi/180\n",
    "str2 = 250 * pi/180 # NE dipping limb\n",
    "dip2 = 60 * pi/180\n",
    "\n",
    "# (a) Chevron folds have planar limbs. The hinge\n",
    "# of the fold is the intersection of the limbs\n",
    "htrd, hplg = Angles(str1,dip1,str2,dip2,'i')\n",
    "print('Hinge trend = {:.1f}, plunge {:.1f}'.format(htrd*180/pi,hplg*180/pi))\n",
    "\n",
    "# The rake of the hinge on either limb is the angle \n",
    "# between the hinge and the strike line on the limb. \n",
    "# This line is horizontal and has plunge = 0\n",
    "plg = 0\n",
    "\n",
    "# (b) For the SW dipping limb\n",
    "ang1, ang2 = Angles(str1,plg,htrd,hplg,'l')\n",
    "print('Rake of hinge in SW dipping limb = {:.1f}'.format(ang1*180/pi))\n",
    "\n",
    "# (c) And for the NE dipping limb\n",
    "ang1, ang2 = Angles(str2,plg,htrd,hplg,'l')\n",
    "print('Rake of hinge in NE dipping limb = {:.1f}'.format(ang1*180/pi))"
   ]
  },
  {
   "cell_type": "code",
   "execution_count": 3,
   "metadata": {},
   "outputs": [
    {
     "name": "stdout",
     "output_type": "stream",
     "text": [
      "Hinge trend = 265.8, plunge 25.3\n",
      "Rake of hinge in SW dipping limb = 138.4\n",
      "Rake of hinge in NW dipping limb = 29.5\n"
     ]
    }
   ],
   "source": [
    "# New API\n",
    "# Strike and dip of the limbs in radians\n",
    "str1, dip1 = np.radians([120, 40]) # SW dipping limb\n",
    "str2, dip2 = np.radians([250, 60]) # NW dipping limb\n",
    "\n",
    "# (a) Chevron folds have planar limbs. The hinge\n",
    "# of the fold is the intersection of the limbs\n",
    "htrd, hplg = line_from_planes(str1,dip1,str2,dip2)\n",
    "\n",
    "print('Hinge trend = {:.1f}, plunge {:.1f}'.format(np.degrees(htrd),np.degrees(hplg)))\n",
    "\n",
    "# The rake of the hinge on either limb is the angle \n",
    "# between the hinge and the strike line on the limb. \n",
    "\n",
    "# This line is horizontal and has plunge = 0\n",
    "plg = 0.0\n",
    "\n",
    "# (b) For the SW dipping limb\n",
    "ang1 = angle_from_lines(str1,plg,htrd,hplg)\n",
    "print('Rake of hinge in SW dipping limb = {:.1f}'.format(np.degrees(ang1)))\n",
    "\n",
    "# (c) And for the NW dipping limb\n",
    "ang2 = angle_from_lines(str2,plg,htrd,hplg)\n",
    "print('Rake of hinge in NW dipping limb = {:.1f}'.format(np.degrees(ang2)))\n"
   ]
  },
  {
   "cell_type": "markdown",
   "metadata": {},
   "source": [
    "Let's do another problem: A quarry has two walls, one trending 002 and the other 135. The apparent dip of bedding on the faces are 40N and 30 SE respectively. Calculate the strike and dip of bedding."
   ]
  },
  {
   "cell_type": "code",
   "execution_count": 4,
   "metadata": {},
   "outputs": [
    {
     "name": "stdout",
     "output_type": "stream",
     "text": [
      "Bedding strike = 333.9, dip 60.7\n"
     ]
    }
   ],
   "source": [
    "# Old API\n",
    "# The apparent dips are just two lines on bedding\n",
    "# These lines have orientations:\n",
    "trd1 = 2 * pi/180\n",
    "plg1 = 40 * pi/180\n",
    "trd2 = 135 * pi/180\n",
    "plg2 = 30 * pi/180\n",
    "\n",
    "# Calculate bedding from these two apparent dips\n",
    "strike, dip = Angles(trd1,plg1,trd2,plg2,'a')\n",
    "print('Bedding strike = {:.1f}, dip {:.1f}'.format(strike*180/pi,dip*180/pi))"
   ]
  },
  {
   "cell_type": "code",
   "execution_count": 5,
   "metadata": {},
   "outputs": [
    {
     "name": "stdout",
     "output_type": "stream",
     "text": [
      "Bedding strike = 333.9, dip 60.7\n"
     ]
    }
   ],
   "source": [
    "# New API\n",
    "# The apparent dips are just two lines on bedding\n",
    "# These lines have orientations:\n",
    "trd1, plg1 = np.radians([2,40])\n",
    "trd2, plg2 = np.radians([135,30])\n",
    "\n",
    "# Calculate bedding from these two apparent dips\n",
    "strike, dip = plane_from_lines(trd1,plg1,trd2,plg2)\n",
    "print('Bedding strike = {:.1f}, dip {:.1f}'.format(np.degrees(strike),np.degrees(dip)))"
   ]
  },
  {
   "cell_type": "markdown",
   "metadata": {},
   "source": [
    "And the final problem: Slickenside lineations trending 074 occur on a fault with orientation 300/50 (RHR). Determine the plunge of these lineations and their rake in the plane of the fault."
   ]
  },
  {
   "cell_type": "code",
   "execution_count": 6,
   "metadata": {},
   "outputs": [
    {
     "name": "stdout",
     "output_type": "stream",
     "text": [
      "Slickensides trend = 74.0, plunge 40.6\n",
      "Rake of slickensides = 121.8\n"
     ]
    }
   ],
   "source": [
    "# Old API\n",
    "# The lineation on the fault is just the intersection\n",
    "# of a vertical plane with a strike equal to\n",
    "# the trend of the lineation, and the fault\n",
    "str1 = 74 * pi/180\n",
    "dip1 = 90 * pi/180\n",
    "str2 = 300 * pi/180\n",
    "dip2 = 50 * pi/180\n",
    "\n",
    "# Find the intersection of these two planes which is\n",
    "# the lineation on the fault\n",
    "ltrd, lplg = Angles(str1,dip1,str2,dip2,'i')\n",
    "print('Slickensides trend = {:.1f}, plunge {:.1f}'.format(ltrd*180/pi,lplg*180/pi))\n",
    "\n",
    "# And the rake of this lineation is the angle\n",
    "# between the lineation and the strike line on the fault\n",
    "plg = 0\n",
    "ang1, ang2 = Angles(str2,plg,ltrd,lplg,'l')\n",
    "print('Rake of slickensides = {:.1f}'.format(ang1*180/pi))"
   ]
  },
  {
   "cell_type": "code",
   "execution_count": 7,
   "metadata": {},
   "outputs": [
    {
     "name": "stdout",
     "output_type": "stream",
     "text": [
      "Slickensides trend = 74.0, plunge 40.6\n",
      "Rake of slickensides = 121.8\n"
     ]
    }
   ],
   "source": [
    "# New API\n",
    "# The lineation on the fault is just the intersection\n",
    "# of a vertical plane with a strike equal to\n",
    "# the trend of the lineation, and the fault\n",
    "str1, dip1 = np.radians([74, 90])\n",
    "str2, dip2 = np.radians([300, 50])\n",
    "\n",
    "# Find the intersection of these two planes which is\n",
    "# the lineation on the fault\n",
    "ltrd, lplg = line_from_planes(str1,dip1,str2,dip2)\n",
    "print('Slickensides trend = {:.1f}, plunge {:.1f}'.format(np.degrees(ltrd),np.degrees(lplg)))\n",
    "\n",
    "# And the rake of this lineation is the angle\n",
    "# between the lineation and the strike line on the fault\n",
    "plg = 0.0\n",
    "ang3 = angle_from_lines(str2,plg,ltrd,lplg)\n",
    "print('Rake of slickensides = {:.1f}'.format(np.degrees(ang3)))"
   ]
  },
  {
   "cell_type": "markdown",
   "metadata": {},
   "source": [
    "There are many interesting problems you can solve using the function `Angles`. You will find more problems in the Exercises section.  "
   ]
  }
 ],
 "metadata": {
  "kernelspec": {
   "display_name": "Python 3",
   "language": "python",
   "name": "python3"
  },
  "language_info": {
   "codemirror_mode": {
    "name": "ipython",
    "version": 3
   },
   "file_extension": ".py",
   "mimetype": "text/x-python",
   "name": "python",
   "nbconvert_exporter": "python",
   "pygments_lexer": "ipython3",
   "version": "3.8.5"
  }
 },
 "nbformat": 4,
 "nbformat_minor": 2
}
