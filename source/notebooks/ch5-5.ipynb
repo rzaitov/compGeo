{
 "cells": [
  {
   "cell_type": "markdown",
   "metadata": {},
   "source": [
    "An overturned bed oriented 305/60 (RHR) has sedimentary lineations which indicate the palaeocurrent direction. These pitch at 60NW, with the current flowing up the plunge. Calculate the original trend of the paleocurrents.\n",
    "\n",
    "Besides rotating the lineations back to their pre-tilted orientation, there is an additional challenge in this problem. We need to figure out the orientation of the current lineations from their pitch on the bed. We will do this as well using a rotation."
   ]
  },
  {
   "cell_type": "code",
   "execution_count": 1,
   "metadata": {},
   "outputs": [],
   "source": [
    "import sys, os\n",
    "sys.path.append(os.path.abspath('../functions'))\n",
    "\n",
    "import numpy as np\n",
    "pi = np.pi\n",
    "\n",
    "# Old API\n",
    "from Pole import Pole\n",
    "from Rotate import Rotate\n",
    "from ZeroTwoPi import ZeroTwoPi\n",
    "\n",
    "# New API\n",
    "from pole_utils import pole_from_plane, plane_from_pole\n",
    "from rotation import rotation, rotate_axis\n",
    "from zero_two_pi import zero_two_pi"
   ]
  },
  {
   "cell_type": "code",
   "execution_count": 2,
   "metadata": {},
   "outputs": [
    {
     "name": "stdout",
     "output_type": "stream",
     "text": [
      "Original trend of the paleocurrents = 65.0\n"
     ]
    }
   ],
   "source": [
    "# Old API\n",
    "# Strike and dip of bed in radians\n",
    "strike = 305*pi/180\n",
    "dip = 60*pi/180\n",
    "\n",
    "# Pole of bed\n",
    "rtrd, rplg = Pole(strike, dip, 1)\n",
    "\n",
    "# To find the orientation of the lineations\n",
    "# rotate the strike line clockwise about the \n",
    "# pole an amount equal to the pitch\n",
    "\n",
    "# strike line\n",
    "trd = strike \n",
    "plg = 0\n",
    "\n",
    "# rotation = pitch in radians\n",
    "rot = 60 * pi/180 \n",
    "\n",
    "# orientation of lineations\n",
    "trdr, plgr = Rotate(rtrd,rplg,rot,trd,plg,'a')\n",
    "\n",
    "# Now we need to rotate the lineations about\n",
    "# the strike line to their pre-tilted orientation\n",
    "\n",
    "# The bed is overturned, so it has been rotated \n",
    "# pass the vertical. The amount of rotation\n",
    "# required to restore the bed to its pre-tilted\n",
    "# orientation is 180- 60 = 120 deg, and it\n",
    "# should be clockwise\n",
    "rot = 120 * pi/180 # rotation in radians\n",
    "\n",
    "# rotate lineations to their pre-tilted orientation\n",
    "trdl, plgl = Rotate(trd,plg,rot,trdr,plgr,'a')\n",
    "\n",
    "# The current flows up the plunge, \n",
    "# so the trend of the paleocurrents is:\n",
    "trdl = ZeroTwoPi(trdl + pi)\n",
    "print('Original trend of the paleocurrents = {:.1f}'.format(trdl*180/pi))"
   ]
  },
  {
   "cell_type": "code",
   "execution_count": 3,
   "metadata": {},
   "outputs": [
    {
     "name": "stdout",
     "output_type": "stream",
     "text": [
      "Original trend of the paleocurrents = 65.0\n"
     ]
    }
   ],
   "source": [
    "# New API\n",
    "strike, dip = np.radians([ 305, 60 ])\n",
    "\n",
    "# Pole of bed\n",
    "rtrd, rplg = pole_from_plane(strike, dip)\n",
    "\n",
    "# To find the orientation of the lineations\n",
    "# rotate the strike line clockwise about the \n",
    "# pole an amount equal to the pitch\n",
    "\n",
    "# strike line\n",
    "trd, plg = strike, 0.0\n",
    "\n",
    "# rotation = pitch in radians\n",
    "R1 = rotation(rtrd, rplg, np.radians(60))\n",
    "trdr, plgr = rotate_axis(R1, trd, plg)\n",
    "\n",
    "# The bed is overturned, so it has been rotated \n",
    "# pass the vertical. The amount of rotation\n",
    "# required to restore the bed to its pre-tilted\n",
    "# orientation is 180- 60 = 120 deg, and it\n",
    "# should be clockwise\n",
    "\n",
    "# rotate lineations to their pre-tilted orientation\n",
    "R2 = rotation(trd, plg, np.radians(120))\n",
    "trdl, plgl = rotate_axis(R2, trdr, plgr)\n",
    "\n",
    "# The current flows up the plunge, \n",
    "# so the trend of the paleocurrents is:\n",
    "trdl = zero_two_pi(trdl + pi)\n",
    "print('Original trend of the paleocurrents = {:.1f}'.format(np.degrees(trdl)))"
   ]
  }
 ],
 "metadata": {
  "kernelspec": {
   "display_name": "Python 3",
   "language": "python",
   "name": "python3"
  },
  "language_info": {
   "codemirror_mode": {
    "name": "ipython",
    "version": 3
   },
   "file_extension": ".py",
   "mimetype": "text/x-python",
   "name": "python",
   "nbconvert_exporter": "python",
   "pygments_lexer": "ipython3",
   "version": "3.6.5"
  }
 },
 "nbformat": 4,
 "nbformat_minor": 2
}
